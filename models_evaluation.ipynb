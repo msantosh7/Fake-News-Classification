{
 "cells": [
  {
   "cell_type": "code",
   "execution_count": 215,
   "metadata": {},
   "outputs": [],
   "source": [
    "import pandas as pd \n",
    "from sklearn import metrics\n",
    "import numpy as np\n",
    "from sklearn.feature_extraction.text import TfidfVectorizer\n",
    "from sklearn.metrics.pairwise import cosine_similarity\n",
    "from sklearn.model_selection import train_test_split\n",
    "from imblearn.over_sampling import SMOTE\n",
    "from sklearn.linear_model import LogisticRegression\n",
    "from sklearn.svm import LinearSVC\n",
    "from sklearn.ensemble import RandomForestClassifier\n",
    "from sklearn.naive_bayes import GaussianNB\n",
    "from sklearn.linear_model import SGDClassifier"
   ]
  },
  {
   "cell_type": "code",
   "execution_count": 216,
   "metadata": {},
   "outputs": [],
   "source": [
    "TFIDF = TfidfVectorizer()\n",
    "\n",
    "def calc_similarity(row): \n",
    "    row = row[0:2]\n",
    "    tfidf_matrix = TFIDF.fit_transform(row)\n",
    "    cosine_sim = cosine_similarity(tfidf_matrix, tfidf_matrix)\n",
    "    print(cosine_sim[0][1])\n",
    "    return cosine_sim[0][1]"
   ]
  },
  {
   "cell_type": "code",
   "execution_count": 217,
   "metadata": {},
   "outputs": [],
   "source": [
    "x = pd.read_csv('similarities.csv')\n",
    "y = pd.read_csv('labels.csv')\n",
    "x = np.array(x['sim']).reshape(-1, 1)\n",
    "y = y['label']"
   ]
  },
  {
   "cell_type": "code",
   "execution_count": 218,
   "metadata": {},
   "outputs": [],
   "source": [
    "train_x, test_x, train_y, test_y = train_test_split(x,y , test_size=0.3, random_state=1)\n",
    "\n",
    "# balance data \n",
    "sm = SMOTE(random_state=1)\n",
    "train_x_r, train_y_r = sm.fit_resample(train_x, train_y.ravel()) "
   ]
  },
  {
   "cell_type": "code",
   "execution_count": 223,
   "metadata": {},
   "outputs": [
    {
     "name": "stdout",
     "output_type": "stream",
     "text": [
      "Accuracy_LogisticRegression:\n",
      "65.52324750107236\n",
      "\n",
      "Confusion Matrix:\n",
      "[[38613  9003  5020]\n",
      " [  783   573   538]\n",
      " [ 5433  5747 11223]]\n",
      "\n",
      "Classification Report:\n",
      "              precision    recall  f1-score   support\n",
      "\n",
      "           0       0.86      0.73      0.79     52636\n",
      "           1       0.04      0.30      0.07      1894\n",
      "           2       0.67      0.50      0.57     22403\n",
      "\n",
      "    accuracy                           0.66     76933\n",
      "   macro avg       0.52      0.51      0.48     76933\n",
      "weighted avg       0.78      0.66      0.71     76933\n",
      "\n"
     ]
    }
   ],
   "source": [
    "clf = LogisticRegression(solver='lbfgs',multi_class='multinomial')\n",
    "clf.fit(train_x_r, train_y_r)\n",
    "clf_y_pred = clf.predict(test_x)\n",
    "# print results \n",
    "print(\"Accuracy_LogisticRegression:\")\n",
    "print(metrics.accuracy_score(test_y, clf_y_pred)*100)\n",
    "print(\"\\nConfusion Matrix:\")\n",
    "print(metrics.confusion_matrix(test_y, clf_y_pred))\n",
    "print(\"\\nClassification Report:\")\n",
    "print(metrics.classification_report(test_y, clf_y_pred))"
   ]
  },
  {
   "cell_type": "code",
   "execution_count": 224,
   "metadata": {},
   "outputs": [
    {
     "name": "stdout",
     "output_type": "stream",
     "text": [
      "Accuracy_LinearSVC:\n",
      "73.63550102036838\n",
      "\n",
      "Confusion Matrix:\n",
      "[[42608  1616  8412]\n",
      " [ 1008   108   778]\n",
      " [ 7441  1028 13934]]\n",
      "\n",
      "Classification Report:\n",
      "              precision    recall  f1-score   support\n",
      "\n",
      "           0       0.83      0.81      0.82     52636\n",
      "           1       0.04      0.06      0.05      1894\n",
      "           2       0.60      0.62      0.61     22403\n",
      "\n",
      "    accuracy                           0.74     76933\n",
      "   macro avg       0.49      0.50      0.49     76933\n",
      "weighted avg       0.75      0.74      0.74     76933\n",
      "\n"
     ]
    }
   ],
   "source": [
    "clf = LinearSVC()\n",
    "clf.fit(train_x_r, train_y_r)\n",
    "clf_y_pred = clf.predict(test_x)\n",
    "# print results \n",
    "print(\"Accuracy_LinearSVC:\")\n",
    "print(metrics.accuracy_score(test_y, clf_y_pred)*100)\n",
    "print(\"\\nConfusion Matrix:\")\n",
    "print(metrics.confusion_matrix(test_y, clf_y_pred))\n",
    "print(\"\\nClassification Report:\")\n",
    "print(metrics.classification_report(test_y, clf_y_pred))"
   ]
  },
  {
   "cell_type": "code",
   "execution_count": 225,
   "metadata": {},
   "outputs": [
    {
     "name": "stdout",
     "output_type": "stream",
     "text": [
      "Accuracy_SGDC:\n",
      "71.49727685128619\n",
      "\n",
      "Confusion Matrix:\n",
      "[[40863  3361  8412]\n",
      " [  908   208   778]\n",
      " [ 6477  1992 13934]]\n",
      "\n",
      "Classification Report:\n",
      "              precision    recall  f1-score   support\n",
      "\n",
      "           0       0.85      0.78      0.81     52636\n",
      "           1       0.04      0.11      0.06      1894\n",
      "           2       0.60      0.62      0.61     22403\n",
      "\n",
      "    accuracy                           0.71     76933\n",
      "   macro avg       0.50      0.50      0.49     76933\n",
      "weighted avg       0.76      0.71      0.73     76933\n",
      "\n"
     ]
    }
   ],
   "source": [
    "sgd = SGDClassifier(loss=\"log_loss\", penalty=\"l2\")\n",
    "sgd.fit(train_x_r, train_y_r)\n",
    "sgd_pred = sgd.predict(test_x)\n",
    "# print results \n",
    "print(\"Accuracy_SGDC:\")\n",
    "print(metrics.accuracy_score(test_y, sgd_pred)*100)\n",
    "print(\"\\nConfusion Matrix:\")\n",
    "print(metrics.confusion_matrix(test_y, sgd_pred))\n",
    "print(\"\\nClassification Report:\")\n",
    "print(metrics.classification_report(test_y, sgd_pred))"
   ]
  },
  {
   "cell_type": "code",
   "execution_count": 227,
   "metadata": {},
   "outputs": [
    {
     "name": "stdout",
     "output_type": "stream",
     "text": [
      "Accuracy_LinearSVC_withoutSMOTE:\n",
      "76.27806013024319\n",
      "\n",
      "Confusion Matrix:\n",
      "[[49262     0  3374]\n",
      " [ 1473     0   421]\n",
      " [12982     0  9421]]\n",
      "\n",
      "Classification Report:\n",
      "              precision    recall  f1-score   support\n",
      "\n",
      "           0       0.77      0.94      0.85     52636\n",
      "           1       0.00      0.00      0.00      1894\n",
      "           2       0.71      0.42      0.53     22403\n",
      "\n",
      "    accuracy                           0.76     76933\n",
      "   macro avg       0.50      0.45      0.46     76933\n",
      "weighted avg       0.74      0.76      0.73     76933\n",
      "\n"
     ]
    },
    {
     "name": "stderr",
     "output_type": "stream",
     "text": [
      "/opt/homebrew/lib/python3.10/site-packages/sklearn/metrics/_classification.py:1344: UndefinedMetricWarning: Precision and F-score are ill-defined and being set to 0.0 in labels with no predicted samples. Use `zero_division` parameter to control this behavior.\n",
      "  _warn_prf(average, modifier, msg_start, len(result))\n",
      "/opt/homebrew/lib/python3.10/site-packages/sklearn/metrics/_classification.py:1344: UndefinedMetricWarning: Precision and F-score are ill-defined and being set to 0.0 in labels with no predicted samples. Use `zero_division` parameter to control this behavior.\n",
      "  _warn_prf(average, modifier, msg_start, len(result))\n",
      "/opt/homebrew/lib/python3.10/site-packages/sklearn/metrics/_classification.py:1344: UndefinedMetricWarning: Precision and F-score are ill-defined and being set to 0.0 in labels with no predicted samples. Use `zero_division` parameter to control this behavior.\n",
      "  _warn_prf(average, modifier, msg_start, len(result))\n"
     ]
    }
   ],
   "source": [
    "clf = LinearSVC()\n",
    "clf.fit(train_x, train_y)\n",
    "clf_y_pred = clf.predict(test_x)\n",
    "# print results \n",
    "print(\"Accuracy_LinearSVC_withoutSMOTE:\")\n",
    "print(metrics.accuracy_score(test_y, clf_y_pred)*100)\n",
    "print(\"\\nConfusion Matrix:\")\n",
    "print(metrics.confusion_matrix(test_y, clf_y_pred))\n",
    "print(\"\\nClassification Report:\")\n",
    "print(metrics.classification_report(test_y, clf_y_pred))"
   ]
  },
  {
   "cell_type": "code",
   "execution_count": null,
   "metadata": {},
   "outputs": [],
   "source": []
  }
 ],
 "metadata": {
  "kernelspec": {
   "display_name": "Python 3",
   "language": "python",
   "name": "python3"
  },
  "language_info": {
   "codemirror_mode": {
    "name": "ipython",
    "version": 3
   },
   "file_extension": ".py",
   "mimetype": "text/x-python",
   "name": "python",
   "nbconvert_exporter": "python",
   "pygments_lexer": "ipython3",
   "version": "3.10.10"
  },
  "orig_nbformat": 4
 },
 "nbformat": 4,
 "nbformat_minor": 2
}
